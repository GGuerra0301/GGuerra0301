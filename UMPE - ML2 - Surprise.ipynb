{
 "cells": [
  {
   "cell_type": "code",
   "execution_count": 1,
   "metadata": {},
   "outputs": [
    {
     "name": "stdout",
     "output_type": "stream",
     "text": [
      "Looking in indexes: https://artifactory.dataxu.net/artifactory/api/pypi/pypi-virtual/simple/\n",
      "Requirement already satisfied: scikit-surprise in /opt/anaconda3/envs/notebooks3/lib/python3.9/site-packages (1.1.1)\n",
      "Requirement already satisfied: joblib>=0.11 in /opt/anaconda3/envs/notebooks3/lib/python3.9/site-packages (from scikit-surprise) (0.17.0)\n",
      "Requirement already satisfied: numpy>=1.11.2 in /opt/anaconda3/envs/notebooks3/lib/python3.9/site-packages (from scikit-surprise) (1.19.4)\n",
      "Requirement already satisfied: scipy>=1.0.0 in /opt/anaconda3/envs/notebooks3/lib/python3.9/site-packages (from scikit-surprise) (1.5.4)\n",
      "Requirement already satisfied: six>=1.10.0 in /opt/anaconda3/envs/notebooks3/lib/python3.9/site-packages (from scikit-surprise) (1.15.0)\n"
     ]
    }
   ],
   "source": [
    "!pip install scikit-surprise"
   ]
  },
  {
   "cell_type": "code",
   "execution_count": 3,
   "metadata": {},
   "outputs": [],
   "source": [
    "import surprise\n",
    "import pandas as pd\n"
   ]
  },
  {
   "cell_type": "code",
   "execution_count": 4,
   "metadata": {},
   "outputs": [],
   "source": [
    "df = pd.read_csv('movies_small.csv')"
   ]
  },
  {
   "cell_type": "code",
   "execution_count": 5,
   "metadata": {},
   "outputs": [
    {
     "data": {
      "text/html": [
       "<div>\n",
       "<style scoped>\n",
       "    .dataframe tbody tr th:only-of-type {\n",
       "        vertical-align: middle;\n",
       "    }\n",
       "\n",
       "    .dataframe tbody tr th {\n",
       "        vertical-align: top;\n",
       "    }\n",
       "\n",
       "    .dataframe thead th {\n",
       "        text-align: right;\n",
       "    }\n",
       "</style>\n",
       "<table border=\"1\" class=\"dataframe\">\n",
       "  <thead>\n",
       "    <tr style=\"text-align: right;\">\n",
       "      <th></th>\n",
       "      <th>Unnamed: 0</th>\n",
       "      <th>userId</th>\n",
       "      <th>movieId</th>\n",
       "      <th>rating</th>\n",
       "      <th>timestamp</th>\n",
       "      <th>title</th>\n",
       "      <th>genres</th>\n",
       "    </tr>\n",
       "  </thead>\n",
       "  <tbody>\n",
       "    <tr>\n",
       "      <th>0</th>\n",
       "      <td>1626</td>\n",
       "      <td>132</td>\n",
       "      <td>260</td>\n",
       "      <td>2.0</td>\n",
       "      <td>1157920586</td>\n",
       "      <td>Star Wars: Episode IV - A New Hope (1977)</td>\n",
       "      <td>Action|Adventure|Sci-Fi</td>\n",
       "    </tr>\n",
       "    <tr>\n",
       "      <th>1</th>\n",
       "      <td>1647</td>\n",
       "      <td>198</td>\n",
       "      <td>260</td>\n",
       "      <td>5.0</td>\n",
       "      <td>1034137711</td>\n",
       "      <td>Star Wars: Episode IV - A New Hope (1977)</td>\n",
       "      <td>Action|Adventure|Sci-Fi</td>\n",
       "    </tr>\n",
       "    <tr>\n",
       "      <th>2</th>\n",
       "      <td>1655</td>\n",
       "      <td>212</td>\n",
       "      <td>260</td>\n",
       "      <td>2.5</td>\n",
       "      <td>1505400094</td>\n",
       "      <td>Star Wars: Episode IV - A New Hope (1977)</td>\n",
       "      <td>Action|Adventure|Sci-Fi</td>\n",
       "    </tr>\n",
       "    <tr>\n",
       "      <th>3</th>\n",
       "      <td>1667</td>\n",
       "      <td>234</td>\n",
       "      <td>260</td>\n",
       "      <td>5.0</td>\n",
       "      <td>1004407958</td>\n",
       "      <td>Star Wars: Episode IV - A New Hope (1977)</td>\n",
       "      <td>Action|Adventure|Sci-Fi</td>\n",
       "    </tr>\n",
       "    <tr>\n",
       "      <th>4</th>\n",
       "      <td>1684</td>\n",
       "      <td>279</td>\n",
       "      <td>260</td>\n",
       "      <td>5.0</td>\n",
       "      <td>1506394310</td>\n",
       "      <td>Star Wars: Episode IV - A New Hope (1977)</td>\n",
       "      <td>Action|Adventure|Sci-Fi</td>\n",
       "    </tr>\n",
       "  </tbody>\n",
       "</table>\n",
       "</div>"
      ],
      "text/plain": [
       "   Unnamed: 0  userId  movieId  rating   timestamp  \\\n",
       "0        1626     132      260     2.0  1157920586   \n",
       "1        1647     198      260     5.0  1034137711   \n",
       "2        1655     212      260     2.5  1505400094   \n",
       "3        1667     234      260     5.0  1004407958   \n",
       "4        1684     279      260     5.0  1506394310   \n",
       "\n",
       "                                       title                   genres  \n",
       "0  Star Wars: Episode IV - A New Hope (1977)  Action|Adventure|Sci-Fi  \n",
       "1  Star Wars: Episode IV - A New Hope (1977)  Action|Adventure|Sci-Fi  \n",
       "2  Star Wars: Episode IV - A New Hope (1977)  Action|Adventure|Sci-Fi  \n",
       "3  Star Wars: Episode IV - A New Hope (1977)  Action|Adventure|Sci-Fi  \n",
       "4  Star Wars: Episode IV - A New Hope (1977)  Action|Adventure|Sci-Fi  "
      ]
     },
     "execution_count": 5,
     "metadata": {},
     "output_type": "execute_result"
    }
   ],
   "source": [
    "df.head()"
   ]
  },
  {
   "cell_type": "code",
   "execution_count": null,
   "metadata": {},
   "outputs": [],
   "source": []
  }
 ],
 "metadata": {
  "kernelspec": {
   "display_name": "Python 3",
   "language": "python",
   "name": "python3"
  },
  "language_info": {
   "codemirror_mode": {
    "name": "ipython",
    "version": 3
   },
   "file_extension": ".py",
   "mimetype": "text/x-python",
   "name": "python",
   "nbconvert_exporter": "python",
   "pygments_lexer": "ipython3",
   "version": "3.9.0"
  }
 },
 "nbformat": 4,
 "nbformat_minor": 4
}
