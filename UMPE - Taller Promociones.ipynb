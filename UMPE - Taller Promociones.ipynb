{
 "cells": [
  {
   "attachments": {},
   "cell_type": "markdown",
   "metadata": {},
   "source": [
    "UMFlix, la nueva productora de cine quiere promocionar su nueva película “Starwars: the last war”. Para eso quiere enviar emails a todos aquellos usuarios a quienes les pueda interesar esta nueva película en forma de promoción. La base de datos de movielens cuenta con todos los usuarios a quienes les gustaron las películas de Starwars (siempre que el rating sea mayor o igual a 4). Esos son obvios candidatos para mandar la promoción, sin embargo, UMFlix quiere ampliar ese universo. Usuarios que con alta probabilidad le gusten las películas de Starwars (pero no las hayan visto) serán usuarios a quienes también se les enviará la promoción. De esta forma UMFlix desea ampliar a 50 usuarios adicionales a quienes mandar la promoción. \n",
    "\n",
    "Se considera que alguien le gustan las películas de Starwars si vio alguna de estas con rating 4 o más:\n",
    "```\n",
    " 'Star Wars: Episode IV - A New Hope (1977)',\n",
    " 'Star Wars: Episode V - The Empire Strikes Back (1980)',\n",
    " 'Star Wars: Episode VI - Return of the Jedi (1983)',\n",
    " 'Star Wars: Episode I - The Phantom Menace (1999)',\n",
    " 'Star Wars: Episode II - Attack of the Clones (2002)',\n",
    " 'Star Wars: Episode III - Revenge of the Sith (2005)',\n",
    " 'Star Wars: Episode VII - The Force Awakens (2015)'\n",
    "```\n",
    "\n",
    "Contamos con los archivos movies.csv y ratings.csv"
   ]
  },
  {
   "cell_type": "code",
   "execution_count": null,
   "metadata": {},
   "outputs": [],
   "source": []
  }
 ],
 "metadata": {
  "kernelspec": {
   "display_name": "Python 3",
   "language": "python",
   "name": "python3"
  },
  "language_info": {
   "codemirror_mode": {
    "name": "ipython",
    "version": 3
   },
   "file_extension": ".py",
   "mimetype": "text/x-python",
   "name": "python",
   "nbconvert_exporter": "python",
   "pygments_lexer": "ipython3",
   "version": "3.9.0"
  }
 },
 "nbformat": 4,
 "nbformat_minor": 4
}
