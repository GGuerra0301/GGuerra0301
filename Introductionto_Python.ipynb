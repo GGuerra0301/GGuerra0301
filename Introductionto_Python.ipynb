{
  "nbformat": 4,
  "nbformat_minor": 5,
  "metadata": {
    "kernelspec": {
      "display_name": "Python 3",
      "language": "python",
      "name": "python3"
    },
    "language_info": {
      "codemirror_mode": {
        "name": "ipython",
        "version": 3
      },
      "file_extension": ".py",
      "mimetype": "text/x-python",
      "name": "python",
      "nbconvert_exporter": "python",
      "pygments_lexer": "ipython3",
      "version": "3.8.8"
    },
    "colab": {
      "name": "Introduction to Python.ipynb",
      "provenance": [],
      "collapsed_sections": [],
      "include_colab_link": true
    }
  },
  "cells": [
    {
      "cell_type": "markdown",
      "metadata": {
        "id": "view-in-github",
        "colab_type": "text"
      },
      "source": [
        "<a href=\"https://colab.research.google.com/github/GGuerra0301/GGuerra0301/blob/master/Introductionto_Python.ipynb\" target=\"_parent\"><img src=\"https://colab.research.google.com/assets/colab-badge.svg\" alt=\"Open In Colab\"/></a>"
      ]
    },
    {
      "cell_type": "markdown",
      "metadata": {
        "id": "1853cf9b"
      },
      "source": [
        "Before you turn this problem in, make sure everything runs as expected. First, **restart the kernel** (in the menubar, select Kernel$\\rightarrow$Restart) and then **run all cells** (in the menubar, select Cell$\\rightarrow$Run All).\n",
        "\n",
        "Make sure you fill in any place that says `YOUR CODE HERE` or \"YOUR ANSWER HERE\", as well as your name and collaborators below:"
      ],
      "id": "1853cf9b"
    },
    {
      "cell_type": "code",
      "metadata": {
        "id": "25f0a61d"
      },
      "source": [
        "NAME = \"GABRIELA GUERRA\"\n",
        "COLLABORATORS = \"\"\n"
      ],
      "id": "25f0a61d",
      "execution_count": null,
      "outputs": []
    },
    {
      "cell_type": "markdown",
      "metadata": {
        "id": "dc50c7de"
      },
      "source": [
        "---"
      ],
      "id": "dc50c7de"
    },
    {
      "cell_type": "markdown",
      "metadata": {
        "id": "00cf4499"
      },
      "source": [
        "# Objective\n",
        "\n",
        "The objective of this notebook is to explore how to use notebooks for homework.\n",
        "You will be submitting your homework during the course using these notebooks."
      ],
      "id": "00cf4499"
    },
    {
      "cell_type": "code",
      "metadata": {
        "id": "a86892f5"
      },
      "source": [
        "import numpy as np"
      ],
      "id": "a86892f5",
      "execution_count": null,
      "outputs": []
    },
    {
      "cell_type": "code",
      "metadata": {
        "deletable": false,
        "nbgrader": {
          "cell_type": "code",
          "checksum": "2df232ff9bb246f7cfe808dc59816081",
          "grade": false,
          "grade_id": "grade_vowels",
          "locked": false,
          "schema_version": 3,
          "solution": true,
          "task": false
        },
        "id": "b0b84bea"
      },
      "source": [
        "def remove_vowels(s: str) -> str:\n",
        "    \"\"\"\n",
        "    This function removes all vowels from strings\n",
        "    Example: \"hello\" -> \"hll\"\n",
        "    \"\"\"\n",
        "    \n",
        "    # YOUR CODE HERE\n",
        "    raise NotImplementedError()"
      ],
      "id": "b0b84bea",
      "execution_count": null,
      "outputs": []
    },
    {
      "cell_type": "code",
      "metadata": {
        "deletable": false,
        "editable": false,
        "nbgrader": {
          "cell_type": "code",
          "checksum": "8c17cd6f3db92e6d41d26eb7d6be6b5e",
          "grade": true,
          "grade_id": "grade_remove_vowels",
          "locked": true,
          "points": 1,
          "schema_version": 3,
          "solution": false,
          "task": false
        },
        "id": "0e6e8989",
        "outputId": "c0c9794a-399f-4572-9797-6fc66d206bb5"
      },
      "source": [
        "assert remove_vowels(\"hola\") == \"hl\"\n",
        "assert remove_vowels(\"this was a good day\") == \"ths ws  gd dy\""
      ],
      "id": "0e6e8989",
      "execution_count": null,
      "outputs": [
        {
          "output_type": "error",
          "ename": "NotImplementedError",
          "evalue": "",
          "traceback": [
            "\u001b[1;31m---------------------------------------------------------------------------\u001b[0m",
            "\u001b[1;31mNotImplementedError\u001b[0m                       Traceback (most recent call last)",
            "\u001b[1;32m<ipython-input-4-78978080ccd6>\u001b[0m in \u001b[0;36m<module>\u001b[1;34m\u001b[0m\n\u001b[1;32m----> 1\u001b[1;33m \u001b[1;32massert\u001b[0m \u001b[0mremove_vowels\u001b[0m\u001b[1;33m(\u001b[0m\u001b[1;34m\"hola\"\u001b[0m\u001b[1;33m)\u001b[0m \u001b[1;33m==\u001b[0m \u001b[1;34m\"hl\"\u001b[0m\u001b[1;33m\u001b[0m\u001b[1;33m\u001b[0m\u001b[0m\n\u001b[0m\u001b[0;32m      2\u001b[0m \u001b[1;32massert\u001b[0m \u001b[0mremove_vowels\u001b[0m\u001b[1;33m(\u001b[0m\u001b[1;34m\"this was a good day\"\u001b[0m\u001b[1;33m)\u001b[0m \u001b[1;33m==\u001b[0m \u001b[1;34m\"ths ws  gd dy\"\u001b[0m\u001b[1;33m\u001b[0m\u001b[1;33m\u001b[0m\u001b[0m\n",
            "\u001b[1;32m<ipython-input-3-806a8c701360>\u001b[0m in \u001b[0;36mremove_vowels\u001b[1;34m(s)\u001b[0m\n\u001b[0;32m      6\u001b[0m \u001b[1;33m\u001b[0m\u001b[0m\n\u001b[0;32m      7\u001b[0m     \u001b[1;31m# YOUR CODE HERE\u001b[0m\u001b[1;33m\u001b[0m\u001b[1;33m\u001b[0m\u001b[1;33m\u001b[0m\u001b[0m\n\u001b[1;32m----> 8\u001b[1;33m     \u001b[1;32mraise\u001b[0m \u001b[0mNotImplementedError\u001b[0m\u001b[1;33m(\u001b[0m\u001b[1;33m)\u001b[0m\u001b[1;33m\u001b[0m\u001b[1;33m\u001b[0m\u001b[0m\n\u001b[0m",
            "\u001b[1;31mNotImplementedError\u001b[0m: "
          ]
        }
      ]
    },
    {
      "cell_type": "code",
      "metadata": {
        "deletable": false,
        "nbgrader": {
          "cell_type": "code",
          "checksum": "f1ac3faea371e2ea8b4f45cf938407bc",
          "grade": false,
          "grade_id": "sum_of_list",
          "locked": false,
          "schema_version": 3,
          "solution": true,
          "task": false
        },
        "id": "69cf23b0"
      },
      "source": [
        "def sum_list_of_floats(a: list, b:list) -> list:\n",
        "    \"\"\"\n",
        "    Returns the coordinate wise sum of a and b.\n",
        "    \"\"\"\n",
        "    \n",
        "    # YOUR CODE HERE\n",
        "    raise NotImplementedError()"
      ],
      "id": "69cf23b0",
      "execution_count": null,
      "outputs": []
    },
    {
      "cell_type": "code",
      "metadata": {
        "deletable": false,
        "editable": false,
        "nbgrader": {
          "cell_type": "code",
          "checksum": "da7fec1c1b34f9aa5e1d86e08aae580e",
          "grade": true,
          "grade_id": "grade_sum",
          "locked": true,
          "points": 1,
          "schema_version": 3,
          "solution": false,
          "task": false
        },
        "id": "7ab142cf"
      },
      "source": [
        "assert np.allclose(\n",
        "    sum_list_of_floats(\n",
        "        [1, 2, 3], [4, 5, -2.3]),\n",
        "    [5, 7, 0.7]\n",
        ")\n",
        "assert np.allclose(\n",
        "    sum_list_of_floats(\n",
        "        [0, 0], [1, -1]),\n",
        "    [1, -1]\n",
        ")"
      ],
      "id": "7ab142cf",
      "execution_count": null,
      "outputs": []
    }
  ]
}