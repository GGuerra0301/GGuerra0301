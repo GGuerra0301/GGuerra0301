{
 "cells": [
  {
   "cell_type": "code",
   "execution_count": 1,
   "metadata": {},
   "outputs": [],
   "source": [
    "import pandas as pd"
   ]
  },
  {
   "cell_type": "code",
   "execution_count": 2,
   "metadata": {},
   "outputs": [],
   "source": [
    "df = pd.read_csv(\"movies_small.csv\")"
   ]
  },
  {
   "cell_type": "code",
   "execution_count": 4,
   "metadata": {},
   "outputs": [
    {
     "data": {
      "text/html": [
       "<div>\n",
       "<style scoped>\n",
       "    .dataframe tbody tr th:only-of-type {\n",
       "        vertical-align: middle;\n",
       "    }\n",
       "\n",
       "    .dataframe tbody tr th {\n",
       "        vertical-align: top;\n",
       "    }\n",
       "\n",
       "    .dataframe thead th {\n",
       "        text-align: right;\n",
       "    }\n",
       "</style>\n",
       "<table border=\"1\" class=\"dataframe\">\n",
       "  <thead>\n",
       "    <tr style=\"text-align: right;\">\n",
       "      <th></th>\n",
       "      <th>Unnamed: 0</th>\n",
       "      <th>userId</th>\n",
       "      <th>movieId</th>\n",
       "      <th>rating</th>\n",
       "      <th>timestamp</th>\n",
       "      <th>title</th>\n",
       "      <th>genres</th>\n",
       "    </tr>\n",
       "  </thead>\n",
       "  <tbody>\n",
       "    <tr>\n",
       "      <th>0</th>\n",
       "      <td>1626</td>\n",
       "      <td>132</td>\n",
       "      <td>260</td>\n",
       "      <td>2.0</td>\n",
       "      <td>1157920586</td>\n",
       "      <td>Star Wars: Episode IV - A New Hope (1977)</td>\n",
       "      <td>Action|Adventure|Sci-Fi</td>\n",
       "    </tr>\n",
       "    <tr>\n",
       "      <th>1</th>\n",
       "      <td>1647</td>\n",
       "      <td>198</td>\n",
       "      <td>260</td>\n",
       "      <td>5.0</td>\n",
       "      <td>1034137711</td>\n",
       "      <td>Star Wars: Episode IV - A New Hope (1977)</td>\n",
       "      <td>Action|Adventure|Sci-Fi</td>\n",
       "    </tr>\n",
       "    <tr>\n",
       "      <th>2</th>\n",
       "      <td>1655</td>\n",
       "      <td>212</td>\n",
       "      <td>260</td>\n",
       "      <td>2.5</td>\n",
       "      <td>1505400094</td>\n",
       "      <td>Star Wars: Episode IV - A New Hope (1977)</td>\n",
       "      <td>Action|Adventure|Sci-Fi</td>\n",
       "    </tr>\n",
       "    <tr>\n",
       "      <th>3</th>\n",
       "      <td>1667</td>\n",
       "      <td>234</td>\n",
       "      <td>260</td>\n",
       "      <td>5.0</td>\n",
       "      <td>1004407958</td>\n",
       "      <td>Star Wars: Episode IV - A New Hope (1977)</td>\n",
       "      <td>Action|Adventure|Sci-Fi</td>\n",
       "    </tr>\n",
       "    <tr>\n",
       "      <th>4</th>\n",
       "      <td>1684</td>\n",
       "      <td>279</td>\n",
       "      <td>260</td>\n",
       "      <td>5.0</td>\n",
       "      <td>1506394310</td>\n",
       "      <td>Star Wars: Episode IV - A New Hope (1977)</td>\n",
       "      <td>Action|Adventure|Sci-Fi</td>\n",
       "    </tr>\n",
       "  </tbody>\n",
       "</table>\n",
       "</div>"
      ],
      "text/plain": [
       "   Unnamed: 0  userId  movieId  rating   timestamp  \\\n",
       "0        1626     132      260     2.0  1157920586   \n",
       "1        1647     198      260     5.0  1034137711   \n",
       "2        1655     212      260     2.5  1505400094   \n",
       "3        1667     234      260     5.0  1004407958   \n",
       "4        1684     279      260     5.0  1506394310   \n",
       "\n",
       "                                       title                   genres  \n",
       "0  Star Wars: Episode IV - A New Hope (1977)  Action|Adventure|Sci-Fi  \n",
       "1  Star Wars: Episode IV - A New Hope (1977)  Action|Adventure|Sci-Fi  \n",
       "2  Star Wars: Episode IV - A New Hope (1977)  Action|Adventure|Sci-Fi  \n",
       "3  Star Wars: Episode IV - A New Hope (1977)  Action|Adventure|Sci-Fi  \n",
       "4  Star Wars: Episode IV - A New Hope (1977)  Action|Adventure|Sci-Fi  "
      ]
     },
     "execution_count": 4,
     "metadata": {},
     "output_type": "execute_result"
    }
   ],
   "source": [
    "df.head()"
   ]
  },
  {
   "cell_type": "code",
   "execution_count": null,
   "metadata": {},
   "outputs": [],
   "source": [
    "# ¿Cuántas películas vió el usuario 132?"
   ]
  },
  {
   "cell_type": "code",
   "execution_count": 8,
   "metadata": {},
   "outputs": [
    {
     "data": {
      "text/plain": [
       "0       True\n",
       "1      False\n",
       "2      False\n",
       "3      False\n",
       "4      False\n",
       "       ...  \n",
       "251    False\n",
       "252    False\n",
       "253    False\n",
       "254    False\n",
       "255    False\n",
       "Name: userId, Length: 256, dtype: bool"
      ]
     },
     "execution_count": 8,
     "metadata": {},
     "output_type": "execute_result"
    }
   ],
   "source": [
    "df['userId']==132"
   ]
  },
  {
   "cell_type": "code",
   "execution_count": 11,
   "metadata": {},
   "outputs": [
    {
     "data": {
      "text/html": [
       "<div>\n",
       "<style scoped>\n",
       "    .dataframe tbody tr th:only-of-type {\n",
       "        vertical-align: middle;\n",
       "    }\n",
       "\n",
       "    .dataframe tbody tr th {\n",
       "        vertical-align: top;\n",
       "    }\n",
       "\n",
       "    .dataframe thead th {\n",
       "        text-align: right;\n",
       "    }\n",
       "</style>\n",
       "<table border=\"1\" class=\"dataframe\">\n",
       "  <thead>\n",
       "    <tr style=\"text-align: right;\">\n",
       "      <th></th>\n",
       "      <th>Unnamed: 0</th>\n",
       "      <th>userId</th>\n",
       "      <th>movieId</th>\n",
       "      <th>rating</th>\n",
       "      <th>timestamp</th>\n",
       "      <th>title</th>\n",
       "      <th>genres</th>\n",
       "    </tr>\n",
       "  </thead>\n",
       "  <tbody>\n",
       "    <tr>\n",
       "      <th>0</th>\n",
       "      <td>1626</td>\n",
       "      <td>132</td>\n",
       "      <td>260</td>\n",
       "      <td>2.0</td>\n",
       "      <td>1157920586</td>\n",
       "      <td>Star Wars: Episode IV - A New Hope (1977)</td>\n",
       "      <td>Action|Adventure|Sci-Fi</td>\n",
       "    </tr>\n",
       "    <tr>\n",
       "      <th>24</th>\n",
       "      <td>7603</td>\n",
       "      <td>132</td>\n",
       "      <td>1210</td>\n",
       "      <td>2.0</td>\n",
       "      <td>1157921254</td>\n",
       "      <td>Star Wars: Episode VI - Return of the Jedi (1983)</td>\n",
       "      <td>Action|Adventure|Sci-Fi</td>\n",
       "    </tr>\n",
       "    <tr>\n",
       "      <th>51</th>\n",
       "      <td>13887</td>\n",
       "      <td>132</td>\n",
       "      <td>2858</td>\n",
       "      <td>4.5</td>\n",
       "      <td>1157922636</td>\n",
       "      <td>American Beauty (1999)</td>\n",
       "      <td>Drama|Romance</td>\n",
       "    </tr>\n",
       "    <tr>\n",
       "      <th>64</th>\n",
       "      <td>18249</td>\n",
       "      <td>132</td>\n",
       "      <td>914</td>\n",
       "      <td>3.0</td>\n",
       "      <td>1157923450</td>\n",
       "      <td>My Fair Lady (1964)</td>\n",
       "      <td>Comedy|Drama|Musical|Romance</td>\n",
       "    </tr>\n",
       "    <tr>\n",
       "      <th>78</th>\n",
       "      <td>26520</td>\n",
       "      <td>132</td>\n",
       "      <td>410</td>\n",
       "      <td>3.0</td>\n",
       "      <td>1157967526</td>\n",
       "      <td>Addams Family Values (1993)</td>\n",
       "      <td>Children|Comedy|Fantasy</td>\n",
       "    </tr>\n",
       "    <tr>\n",
       "      <th>104</th>\n",
       "      <td>31294</td>\n",
       "      <td>132</td>\n",
       "      <td>355</td>\n",
       "      <td>2.0</td>\n",
       "      <td>1157923325</td>\n",
       "      <td>Flintstones, The (1994)</td>\n",
       "      <td>Children|Comedy|Fantasy</td>\n",
       "    </tr>\n",
       "    <tr>\n",
       "      <th>131</th>\n",
       "      <td>34453</td>\n",
       "      <td>132</td>\n",
       "      <td>1784</td>\n",
       "      <td>2.5</td>\n",
       "      <td>1157921506</td>\n",
       "      <td>As Good as It Gets (1997)</td>\n",
       "      <td>Comedy|Drama|Romance</td>\n",
       "    </tr>\n",
       "    <tr>\n",
       "      <th>208</th>\n",
       "      <td>58274</td>\n",
       "      <td>132</td>\n",
       "      <td>788</td>\n",
       "      <td>2.0</td>\n",
       "      <td>1157922765</td>\n",
       "      <td>Nutty Professor, The (1996)</td>\n",
       "      <td>Comedy|Fantasy|Romance|Sci-Fi</td>\n",
       "    </tr>\n",
       "  </tbody>\n",
       "</table>\n",
       "</div>"
      ],
      "text/plain": [
       "     Unnamed: 0  userId  movieId  rating   timestamp  \\\n",
       "0          1626     132      260     2.0  1157920586   \n",
       "24         7603     132     1210     2.0  1157921254   \n",
       "51        13887     132     2858     4.5  1157922636   \n",
       "64        18249     132      914     3.0  1157923450   \n",
       "78        26520     132      410     3.0  1157967526   \n",
       "104       31294     132      355     2.0  1157923325   \n",
       "131       34453     132     1784     2.5  1157921506   \n",
       "208       58274     132      788     2.0  1157922765   \n",
       "\n",
       "                                                 title  \\\n",
       "0            Star Wars: Episode IV - A New Hope (1977)   \n",
       "24   Star Wars: Episode VI - Return of the Jedi (1983)   \n",
       "51                              American Beauty (1999)   \n",
       "64                                 My Fair Lady (1964)   \n",
       "78                         Addams Family Values (1993)   \n",
       "104                            Flintstones, The (1994)   \n",
       "131                          As Good as It Gets (1997)   \n",
       "208                        Nutty Professor, The (1996)   \n",
       "\n",
       "                            genres  \n",
       "0          Action|Adventure|Sci-Fi  \n",
       "24         Action|Adventure|Sci-Fi  \n",
       "51                   Drama|Romance  \n",
       "64    Comedy|Drama|Musical|Romance  \n",
       "78         Children|Comedy|Fantasy  \n",
       "104        Children|Comedy|Fantasy  \n",
       "131           Comedy|Drama|Romance  \n",
       "208  Comedy|Fantasy|Romance|Sci-Fi  "
      ]
     },
     "execution_count": 11,
     "metadata": {},
     "output_type": "execute_result"
    }
   ],
   "source": [
    "condicion = df['userId']==132\n",
    "df[condicion]"
   ]
  },
  {
   "cell_type": "code",
   "execution_count": null,
   "metadata": {},
   "outputs": [],
   "source": [
    "df[df['userId']]=="
   ]
  },
  {
   "cell_type": "code",
   "execution_count": 10,
   "metadata": {},
   "outputs": [
    {
     "data": {
      "text/plain": [
       "8"
      ]
     },
     "execution_count": 10,
     "metadata": {},
     "output_type": "execute_result"
    }
   ],
   "source": [
    "len(df[df['userId']==132])"
   ]
  },
  {
   "cell_type": "code",
   "execution_count": null,
   "metadata": {},
   "outputs": [],
   "source": []
  }
 ],
 "metadata": {
  "kernelspec": {
   "display_name": "Python 3",
   "language": "python",
   "name": "python3"
  },
  "language_info": {
   "codemirror_mode": {
    "name": "ipython",
    "version": 3
   },
   "file_extension": ".py",
   "mimetype": "text/x-python",
   "name": "python",
   "nbconvert_exporter": "python",
   "pygments_lexer": "ipython3",
   "version": "3.9.0"
  }
 },
 "nbformat": 4,
 "nbformat_minor": 4
}
